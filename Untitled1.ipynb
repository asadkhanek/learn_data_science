{
 "cells": [
  {
   "cell_type": "code",
   "execution_count": 2,
   "id": "c040e952",
   "metadata": {},
   "outputs": [],
   "source": [
    "%matplotlib inline\n",
    "import warnings\n",
    "warnings.filterwarnings(\"ignore\")\n",
    "\n",
    "\n",
    "\n",
    "import sqlite3\n",
    "import pandas as pd\n",
    "import numpy as np\n",
    "import nltk\n",
    "import string\n",
    "import matplotlib.pyplot as plt\n",
    "import seaborn as sns\n",
    "from sklearn.feature_extraction.text import TfidfTransformer\n",
    "from sklearn.feature_extraction.text import TfidfVectorizer\n",
    "\n",
    "from sklearn.feature_extraction.text import CountVectorizer\n",
    "from sklearn.metrics import confusion_matrix\n",
    "from sklearn import metrics\n",
    "from sklearn.metrics import roc_curve, auc\n",
    "from nltk.stem.porter import PorterStemmer\n",
    "\n",
    "import re\n",
    "# Tutorial about Python regular expressions: https://pymotw.com/2/re/\n",
    "import string\n",
    "from nltk.corpus import stopwords\n",
    "from nltk.stem import PorterStemmer\n",
    "from nltk.stem.wordnet import WordNetLemmatizer\n",
    "\n",
    "from gensim.models import Word2Vec\n",
    "from gensim.models import KeyedVectors\n",
    "import pickle\n",
    "\n",
    "from tqdm import tqdm\n",
    "import os\n",
    "\n",
    "con =sqlite3.connect('./database.sqlite')\n",
    "\n",
    "\n",
    "filtered_data = pd.read_sql_query(\"\"\"\n",
    "SELECT * \n",
    "FROM Reviews\n",
    "WHERE Score != 3\"\"\", con)\n"
   ]
  },
  {
   "cell_type": "code",
   "execution_count": 3,
   "id": "8e7d4f8e",
   "metadata": {},
   "outputs": [],
   "source": [
    "def partition(x):\n",
    "    if x < 3:\n",
    "        return 'negative'\n",
    "    return 'positive'\n",
    "\n",
    "actualScore = filtered_data['Score']\n",
    "positiveNegative = actualScore.map(partition)\n",
    "filtered_data['Score'] = positiveNegative"
   ]
  },
  {
   "cell_type": "code",
   "execution_count": 4,
   "id": "cfdbc06c",
   "metadata": {},
   "outputs": [
    {
     "data": {
      "text/html": [
       "<div>\n",
       "<style scoped>\n",
       "    .dataframe tbody tr th:only-of-type {\n",
       "        vertical-align: middle;\n",
       "    }\n",
       "\n",
       "    .dataframe tbody tr th {\n",
       "        vertical-align: top;\n",
       "    }\n",
       "\n",
       "    .dataframe thead th {\n",
       "        text-align: right;\n",
       "    }\n",
       "</style>\n",
       "<table border=\"1\" class=\"dataframe\">\n",
       "  <thead>\n",
       "    <tr style=\"text-align: right;\">\n",
       "      <th></th>\n",
       "      <th>Id</th>\n",
       "      <th>ProductId</th>\n",
       "      <th>UserId</th>\n",
       "      <th>ProfileName</th>\n",
       "      <th>HelpfulnessNumerator</th>\n",
       "      <th>HelpfulnessDenominator</th>\n",
       "      <th>Score</th>\n",
       "      <th>Time</th>\n",
       "      <th>Summary</th>\n",
       "      <th>Text</th>\n",
       "    </tr>\n",
       "  </thead>\n",
       "  <tbody>\n",
       "    <tr>\n",
       "      <th>0</th>\n",
       "      <td>1</td>\n",
       "      <td>B001E4KFG0</td>\n",
       "      <td>A3SGXH7AUHU8GW</td>\n",
       "      <td>delmartian</td>\n",
       "      <td>1</td>\n",
       "      <td>1</td>\n",
       "      <td>positive</td>\n",
       "      <td>1303862400</td>\n",
       "      <td>Good Quality Dog Food</td>\n",
       "      <td>I have bought several of the Vitality canned d...</td>\n",
       "    </tr>\n",
       "    <tr>\n",
       "      <th>1</th>\n",
       "      <td>2</td>\n",
       "      <td>B00813GRG4</td>\n",
       "      <td>A1D87F6ZCVE5NK</td>\n",
       "      <td>dll pa</td>\n",
       "      <td>0</td>\n",
       "      <td>0</td>\n",
       "      <td>negative</td>\n",
       "      <td>1346976000</td>\n",
       "      <td>Not as Advertised</td>\n",
       "      <td>Product arrived labeled as Jumbo Salted Peanut...</td>\n",
       "    </tr>\n",
       "    <tr>\n",
       "      <th>2</th>\n",
       "      <td>3</td>\n",
       "      <td>B000LQOCH0</td>\n",
       "      <td>ABXLMWJIXXAIN</td>\n",
       "      <td>Natalia Corres \"Natalia Corres\"</td>\n",
       "      <td>1</td>\n",
       "      <td>1</td>\n",
       "      <td>positive</td>\n",
       "      <td>1219017600</td>\n",
       "      <td>\"Delight\" says it all</td>\n",
       "      <td>This is a confection that has been around a fe...</td>\n",
       "    </tr>\n",
       "    <tr>\n",
       "      <th>3</th>\n",
       "      <td>4</td>\n",
       "      <td>B000UA0QIQ</td>\n",
       "      <td>A395BORC6FGVXV</td>\n",
       "      <td>Karl</td>\n",
       "      <td>3</td>\n",
       "      <td>3</td>\n",
       "      <td>negative</td>\n",
       "      <td>1307923200</td>\n",
       "      <td>Cough Medicine</td>\n",
       "      <td>If you are looking for the secret ingredient i...</td>\n",
       "    </tr>\n",
       "    <tr>\n",
       "      <th>4</th>\n",
       "      <td>5</td>\n",
       "      <td>B006K2ZZ7K</td>\n",
       "      <td>A1UQRSCLF8GW1T</td>\n",
       "      <td>Michael D. Bigham \"M. Wassir\"</td>\n",
       "      <td>0</td>\n",
       "      <td>0</td>\n",
       "      <td>positive</td>\n",
       "      <td>1350777600</td>\n",
       "      <td>Great taffy</td>\n",
       "      <td>Great taffy at a great price.  There was a wid...</td>\n",
       "    </tr>\n",
       "    <tr>\n",
       "      <th>5</th>\n",
       "      <td>6</td>\n",
       "      <td>B006K2ZZ7K</td>\n",
       "      <td>ADT0SRK1MGOEU</td>\n",
       "      <td>Twoapennything</td>\n",
       "      <td>0</td>\n",
       "      <td>0</td>\n",
       "      <td>positive</td>\n",
       "      <td>1342051200</td>\n",
       "      <td>Nice Taffy</td>\n",
       "      <td>I got a wild hair for taffy and ordered this f...</td>\n",
       "    </tr>\n",
       "    <tr>\n",
       "      <th>6</th>\n",
       "      <td>7</td>\n",
       "      <td>B006K2ZZ7K</td>\n",
       "      <td>A1SP2KVKFXXRU1</td>\n",
       "      <td>David C. Sullivan</td>\n",
       "      <td>0</td>\n",
       "      <td>0</td>\n",
       "      <td>positive</td>\n",
       "      <td>1340150400</td>\n",
       "      <td>Great!  Just as good as the expensive brands!</td>\n",
       "      <td>This saltwater taffy had great flavors and was...</td>\n",
       "    </tr>\n",
       "    <tr>\n",
       "      <th>7</th>\n",
       "      <td>8</td>\n",
       "      <td>B006K2ZZ7K</td>\n",
       "      <td>A3JRGQVEQN31IQ</td>\n",
       "      <td>Pamela G. Williams</td>\n",
       "      <td>0</td>\n",
       "      <td>0</td>\n",
       "      <td>positive</td>\n",
       "      <td>1336003200</td>\n",
       "      <td>Wonderful, tasty taffy</td>\n",
       "      <td>This taffy is so good.  It is very soft and ch...</td>\n",
       "    </tr>\n",
       "    <tr>\n",
       "      <th>8</th>\n",
       "      <td>9</td>\n",
       "      <td>B000E7L2R4</td>\n",
       "      <td>A1MZYO9TZK0BBI</td>\n",
       "      <td>R. James</td>\n",
       "      <td>1</td>\n",
       "      <td>1</td>\n",
       "      <td>positive</td>\n",
       "      <td>1322006400</td>\n",
       "      <td>Yay Barley</td>\n",
       "      <td>Right now I'm mostly just sprouting this so my...</td>\n",
       "    </tr>\n",
       "    <tr>\n",
       "      <th>9</th>\n",
       "      <td>10</td>\n",
       "      <td>B00171APVA</td>\n",
       "      <td>A21BT40VZCCYT4</td>\n",
       "      <td>Carol A. Reed</td>\n",
       "      <td>0</td>\n",
       "      <td>0</td>\n",
       "      <td>positive</td>\n",
       "      <td>1351209600</td>\n",
       "      <td>Healthy Dog Food</td>\n",
       "      <td>This is a very healthy dog food. Good for thei...</td>\n",
       "    </tr>\n",
       "    <tr>\n",
       "      <th>10</th>\n",
       "      <td>11</td>\n",
       "      <td>B0001PB9FE</td>\n",
       "      <td>A3HDKO7OW0QNK4</td>\n",
       "      <td>Canadian Fan</td>\n",
       "      <td>1</td>\n",
       "      <td>1</td>\n",
       "      <td>positive</td>\n",
       "      <td>1107820800</td>\n",
       "      <td>The Best Hot Sauce in the World</td>\n",
       "      <td>I don't know if it's the cactus or the tequila...</td>\n",
       "    </tr>\n",
       "    <tr>\n",
       "      <th>11</th>\n",
       "      <td>12</td>\n",
       "      <td>B0009XLVG0</td>\n",
       "      <td>A2725IB4YY9JEB</td>\n",
       "      <td>A Poeng \"SparkyGoHome\"</td>\n",
       "      <td>4</td>\n",
       "      <td>4</td>\n",
       "      <td>positive</td>\n",
       "      <td>1282867200</td>\n",
       "      <td>My cats LOVE this \"diet\" food better than thei...</td>\n",
       "      <td>One of my boys needed to lose some weight and ...</td>\n",
       "    </tr>\n",
       "    <tr>\n",
       "      <th>12</th>\n",
       "      <td>13</td>\n",
       "      <td>B0009XLVG0</td>\n",
       "      <td>A327PCT23YH90</td>\n",
       "      <td>LT</td>\n",
       "      <td>1</td>\n",
       "      <td>1</td>\n",
       "      <td>negative</td>\n",
       "      <td>1339545600</td>\n",
       "      <td>My Cats Are Not Fans of the New Food</td>\n",
       "      <td>My cats have been happily eating Felidae Plati...</td>\n",
       "    </tr>\n",
       "    <tr>\n",
       "      <th>13</th>\n",
       "      <td>14</td>\n",
       "      <td>B001GVISJM</td>\n",
       "      <td>A18ECVX2RJ7HUE</td>\n",
       "      <td>willie \"roadie\"</td>\n",
       "      <td>2</td>\n",
       "      <td>2</td>\n",
       "      <td>positive</td>\n",
       "      <td>1288915200</td>\n",
       "      <td>fresh and greasy!</td>\n",
       "      <td>good flavor! these came securely packed... the...</td>\n",
       "    </tr>\n",
       "    <tr>\n",
       "      <th>14</th>\n",
       "      <td>15</td>\n",
       "      <td>B001GVISJM</td>\n",
       "      <td>A2MUGFV2TDQ47K</td>\n",
       "      <td>Lynrie \"Oh HELL no\"</td>\n",
       "      <td>4</td>\n",
       "      <td>5</td>\n",
       "      <td>positive</td>\n",
       "      <td>1268352000</td>\n",
       "      <td>Strawberry Twizzlers - Yummy</td>\n",
       "      <td>The Strawberry Twizzlers are my guilty pleasur...</td>\n",
       "    </tr>\n",
       "    <tr>\n",
       "      <th>15</th>\n",
       "      <td>16</td>\n",
       "      <td>B001GVISJM</td>\n",
       "      <td>A1CZX3CP8IKQIJ</td>\n",
       "      <td>Brian A. Lee</td>\n",
       "      <td>4</td>\n",
       "      <td>5</td>\n",
       "      <td>positive</td>\n",
       "      <td>1262044800</td>\n",
       "      <td>Lots of twizzlers, just what you expect.</td>\n",
       "      <td>My daughter loves twizzlers and this shipment ...</td>\n",
       "    </tr>\n",
       "    <tr>\n",
       "      <th>16</th>\n",
       "      <td>17</td>\n",
       "      <td>B001GVISJM</td>\n",
       "      <td>A3KLWF6WQ5BNYO</td>\n",
       "      <td>Erica Neathery</td>\n",
       "      <td>0</td>\n",
       "      <td>0</td>\n",
       "      <td>negative</td>\n",
       "      <td>1348099200</td>\n",
       "      <td>poor taste</td>\n",
       "      <td>I love eating them and they are good for watch...</td>\n",
       "    </tr>\n",
       "    <tr>\n",
       "      <th>17</th>\n",
       "      <td>18</td>\n",
       "      <td>B001GVISJM</td>\n",
       "      <td>AFKW14U97Z6QO</td>\n",
       "      <td>Becca</td>\n",
       "      <td>0</td>\n",
       "      <td>0</td>\n",
       "      <td>positive</td>\n",
       "      <td>1345075200</td>\n",
       "      <td>Love it!</td>\n",
       "      <td>I am very satisfied with my Twizzler purchase....</td>\n",
       "    </tr>\n",
       "    <tr>\n",
       "      <th>18</th>\n",
       "      <td>19</td>\n",
       "      <td>B001GVISJM</td>\n",
       "      <td>A2A9X58G2GTBLP</td>\n",
       "      <td>Wolfee1</td>\n",
       "      <td>0</td>\n",
       "      <td>0</td>\n",
       "      <td>positive</td>\n",
       "      <td>1324598400</td>\n",
       "      <td>GREAT SWEET CANDY!</td>\n",
       "      <td>Twizzlers, Strawberry my childhood favorite ca...</td>\n",
       "    </tr>\n",
       "    <tr>\n",
       "      <th>19</th>\n",
       "      <td>20</td>\n",
       "      <td>B001GVISJM</td>\n",
       "      <td>A3IV7CL2C13K2U</td>\n",
       "      <td>Greg</td>\n",
       "      <td>0</td>\n",
       "      <td>0</td>\n",
       "      <td>positive</td>\n",
       "      <td>1318032000</td>\n",
       "      <td>Home delivered twizlers</td>\n",
       "      <td>Candy was delivered very fast and was purchase...</td>\n",
       "    </tr>\n",
       "  </tbody>\n",
       "</table>\n",
       "</div>"
      ],
      "text/plain": [
       "    Id   ProductId          UserId                      ProfileName  \\\n",
       "0    1  B001E4KFG0  A3SGXH7AUHU8GW                       delmartian   \n",
       "1    2  B00813GRG4  A1D87F6ZCVE5NK                           dll pa   \n",
       "2    3  B000LQOCH0   ABXLMWJIXXAIN  Natalia Corres \"Natalia Corres\"   \n",
       "3    4  B000UA0QIQ  A395BORC6FGVXV                             Karl   \n",
       "4    5  B006K2ZZ7K  A1UQRSCLF8GW1T    Michael D. Bigham \"M. Wassir\"   \n",
       "5    6  B006K2ZZ7K   ADT0SRK1MGOEU                   Twoapennything   \n",
       "6    7  B006K2ZZ7K  A1SP2KVKFXXRU1                David C. Sullivan   \n",
       "7    8  B006K2ZZ7K  A3JRGQVEQN31IQ               Pamela G. Williams   \n",
       "8    9  B000E7L2R4  A1MZYO9TZK0BBI                         R. James   \n",
       "9   10  B00171APVA  A21BT40VZCCYT4                    Carol A. Reed   \n",
       "10  11  B0001PB9FE  A3HDKO7OW0QNK4                     Canadian Fan   \n",
       "11  12  B0009XLVG0  A2725IB4YY9JEB           A Poeng \"SparkyGoHome\"   \n",
       "12  13  B0009XLVG0   A327PCT23YH90                               LT   \n",
       "13  14  B001GVISJM  A18ECVX2RJ7HUE                  willie \"roadie\"   \n",
       "14  15  B001GVISJM  A2MUGFV2TDQ47K              Lynrie \"Oh HELL no\"   \n",
       "15  16  B001GVISJM  A1CZX3CP8IKQIJ                     Brian A. Lee   \n",
       "16  17  B001GVISJM  A3KLWF6WQ5BNYO                   Erica Neathery   \n",
       "17  18  B001GVISJM   AFKW14U97Z6QO                            Becca   \n",
       "18  19  B001GVISJM  A2A9X58G2GTBLP                          Wolfee1   \n",
       "19  20  B001GVISJM  A3IV7CL2C13K2U                             Greg   \n",
       "\n",
       "    HelpfulnessNumerator  HelpfulnessDenominator     Score        Time  \\\n",
       "0                      1                       1  positive  1303862400   \n",
       "1                      0                       0  negative  1346976000   \n",
       "2                      1                       1  positive  1219017600   \n",
       "3                      3                       3  negative  1307923200   \n",
       "4                      0                       0  positive  1350777600   \n",
       "5                      0                       0  positive  1342051200   \n",
       "6                      0                       0  positive  1340150400   \n",
       "7                      0                       0  positive  1336003200   \n",
       "8                      1                       1  positive  1322006400   \n",
       "9                      0                       0  positive  1351209600   \n",
       "10                     1                       1  positive  1107820800   \n",
       "11                     4                       4  positive  1282867200   \n",
       "12                     1                       1  negative  1339545600   \n",
       "13                     2                       2  positive  1288915200   \n",
       "14                     4                       5  positive  1268352000   \n",
       "15                     4                       5  positive  1262044800   \n",
       "16                     0                       0  negative  1348099200   \n",
       "17                     0                       0  positive  1345075200   \n",
       "18                     0                       0  positive  1324598400   \n",
       "19                     0                       0  positive  1318032000   \n",
       "\n",
       "                                              Summary  \\\n",
       "0                               Good Quality Dog Food   \n",
       "1                                   Not as Advertised   \n",
       "2                               \"Delight\" says it all   \n",
       "3                                      Cough Medicine   \n",
       "4                                         Great taffy   \n",
       "5                                          Nice Taffy   \n",
       "6       Great!  Just as good as the expensive brands!   \n",
       "7                              Wonderful, tasty taffy   \n",
       "8                                          Yay Barley   \n",
       "9                                    Healthy Dog Food   \n",
       "10                    The Best Hot Sauce in the World   \n",
       "11  My cats LOVE this \"diet\" food better than thei...   \n",
       "12               My Cats Are Not Fans of the New Food   \n",
       "13                                  fresh and greasy!   \n",
       "14                       Strawberry Twizzlers - Yummy   \n",
       "15           Lots of twizzlers, just what you expect.   \n",
       "16                                         poor taste   \n",
       "17                                           Love it!   \n",
       "18                                 GREAT SWEET CANDY!   \n",
       "19                            Home delivered twizlers   \n",
       "\n",
       "                                                 Text  \n",
       "0   I have bought several of the Vitality canned d...  \n",
       "1   Product arrived labeled as Jumbo Salted Peanut...  \n",
       "2   This is a confection that has been around a fe...  \n",
       "3   If you are looking for the secret ingredient i...  \n",
       "4   Great taffy at a great price.  There was a wid...  \n",
       "5   I got a wild hair for taffy and ordered this f...  \n",
       "6   This saltwater taffy had great flavors and was...  \n",
       "7   This taffy is so good.  It is very soft and ch...  \n",
       "8   Right now I'm mostly just sprouting this so my...  \n",
       "9   This is a very healthy dog food. Good for thei...  \n",
       "10  I don't know if it's the cactus or the tequila...  \n",
       "11  One of my boys needed to lose some weight and ...  \n",
       "12  My cats have been happily eating Felidae Plati...  \n",
       "13  good flavor! these came securely packed... the...  \n",
       "14  The Strawberry Twizzlers are my guilty pleasur...  \n",
       "15  My daughter loves twizzlers and this shipment ...  \n",
       "16  I love eating them and they are good for watch...  \n",
       "17  I am very satisfied with my Twizzler purchase....  \n",
       "18  Twizzlers, Strawberry my childhood favorite ca...  \n",
       "19  Candy was delivered very fast and was purchase...  "
      ]
     },
     "execution_count": 4,
     "metadata": {},
     "output_type": "execute_result"
    }
   ],
   "source": [
    "filtered_data.shape\n",
    "filtered_data.head(20)"
   ]
  },
  {
   "cell_type": "markdown",
   "id": "108eba03",
   "metadata": {},
   "source": [
    "# data cleaning"
   ]
  },
  {
   "cell_type": "code",
   "execution_count": 5,
   "id": "6e057fb2",
   "metadata": {},
   "outputs": [
    {
     "data": {
      "text/html": [
       "<div>\n",
       "<style scoped>\n",
       "    .dataframe tbody tr th:only-of-type {\n",
       "        vertical-align: middle;\n",
       "    }\n",
       "\n",
       "    .dataframe tbody tr th {\n",
       "        vertical-align: top;\n",
       "    }\n",
       "\n",
       "    .dataframe thead th {\n",
       "        text-align: right;\n",
       "    }\n",
       "</style>\n",
       "<table border=\"1\" class=\"dataframe\">\n",
       "  <thead>\n",
       "    <tr style=\"text-align: right;\">\n",
       "      <th></th>\n",
       "      <th>Id</th>\n",
       "      <th>ProductId</th>\n",
       "      <th>UserId</th>\n",
       "      <th>ProfileName</th>\n",
       "      <th>HelpfulnessNumerator</th>\n",
       "      <th>HelpfulnessDenominator</th>\n",
       "      <th>Score</th>\n",
       "      <th>Time</th>\n",
       "      <th>Summary</th>\n",
       "      <th>Text</th>\n",
       "    </tr>\n",
       "  </thead>\n",
       "  <tbody>\n",
       "    <tr>\n",
       "      <th>0</th>\n",
       "      <td>78445</td>\n",
       "      <td>B000HDL1RQ</td>\n",
       "      <td>AR5J8UI46CURR</td>\n",
       "      <td>Geetha Krishnan</td>\n",
       "      <td>2</td>\n",
       "      <td>2</td>\n",
       "      <td>5</td>\n",
       "      <td>1199577600</td>\n",
       "      <td>LOACKER QUADRATINI VANILLA WAFERS</td>\n",
       "      <td>DELICIOUS WAFERS. I FIND THAT EUROPEAN WAFERS ...</td>\n",
       "    </tr>\n",
       "    <tr>\n",
       "      <th>1</th>\n",
       "      <td>138317</td>\n",
       "      <td>B000HDOPYC</td>\n",
       "      <td>AR5J8UI46CURR</td>\n",
       "      <td>Geetha Krishnan</td>\n",
       "      <td>2</td>\n",
       "      <td>2</td>\n",
       "      <td>5</td>\n",
       "      <td>1199577600</td>\n",
       "      <td>LOACKER QUADRATINI VANILLA WAFERS</td>\n",
       "      <td>DELICIOUS WAFERS. I FIND THAT EUROPEAN WAFERS ...</td>\n",
       "    </tr>\n",
       "    <tr>\n",
       "      <th>2</th>\n",
       "      <td>138277</td>\n",
       "      <td>B000HDOPYM</td>\n",
       "      <td>AR5J8UI46CURR</td>\n",
       "      <td>Geetha Krishnan</td>\n",
       "      <td>2</td>\n",
       "      <td>2</td>\n",
       "      <td>5</td>\n",
       "      <td>1199577600</td>\n",
       "      <td>LOACKER QUADRATINI VANILLA WAFERS</td>\n",
       "      <td>DELICIOUS WAFERS. I FIND THAT EUROPEAN WAFERS ...</td>\n",
       "    </tr>\n",
       "    <tr>\n",
       "      <th>3</th>\n",
       "      <td>73791</td>\n",
       "      <td>B000HDOPZG</td>\n",
       "      <td>AR5J8UI46CURR</td>\n",
       "      <td>Geetha Krishnan</td>\n",
       "      <td>2</td>\n",
       "      <td>2</td>\n",
       "      <td>5</td>\n",
       "      <td>1199577600</td>\n",
       "      <td>LOACKER QUADRATINI VANILLA WAFERS</td>\n",
       "      <td>DELICIOUS WAFERS. I FIND THAT EUROPEAN WAFERS ...</td>\n",
       "    </tr>\n",
       "    <tr>\n",
       "      <th>4</th>\n",
       "      <td>155049</td>\n",
       "      <td>B000PAQ75C</td>\n",
       "      <td>AR5J8UI46CURR</td>\n",
       "      <td>Geetha Krishnan</td>\n",
       "      <td>2</td>\n",
       "      <td>2</td>\n",
       "      <td>5</td>\n",
       "      <td>1199577600</td>\n",
       "      <td>LOACKER QUADRATINI VANILLA WAFERS</td>\n",
       "      <td>DELICIOUS WAFERS. I FIND THAT EUROPEAN WAFERS ...</td>\n",
       "    </tr>\n",
       "  </tbody>\n",
       "</table>\n",
       "</div>"
      ],
      "text/plain": [
       "       Id   ProductId         UserId      ProfileName  HelpfulnessNumerator  \\\n",
       "0   78445  B000HDL1RQ  AR5J8UI46CURR  Geetha Krishnan                     2   \n",
       "1  138317  B000HDOPYC  AR5J8UI46CURR  Geetha Krishnan                     2   \n",
       "2  138277  B000HDOPYM  AR5J8UI46CURR  Geetha Krishnan                     2   \n",
       "3   73791  B000HDOPZG  AR5J8UI46CURR  Geetha Krishnan                     2   \n",
       "4  155049  B000PAQ75C  AR5J8UI46CURR  Geetha Krishnan                     2   \n",
       "\n",
       "   HelpfulnessDenominator  Score        Time  \\\n",
       "0                       2      5  1199577600   \n",
       "1                       2      5  1199577600   \n",
       "2                       2      5  1199577600   \n",
       "3                       2      5  1199577600   \n",
       "4                       2      5  1199577600   \n",
       "\n",
       "                             Summary  \\\n",
       "0  LOACKER QUADRATINI VANILLA WAFERS   \n",
       "1  LOACKER QUADRATINI VANILLA WAFERS   \n",
       "2  LOACKER QUADRATINI VANILLA WAFERS   \n",
       "3  LOACKER QUADRATINI VANILLA WAFERS   \n",
       "4  LOACKER QUADRATINI VANILLA WAFERS   \n",
       "\n",
       "                                                Text  \n",
       "0  DELICIOUS WAFERS. I FIND THAT EUROPEAN WAFERS ...  \n",
       "1  DELICIOUS WAFERS. I FIND THAT EUROPEAN WAFERS ...  \n",
       "2  DELICIOUS WAFERS. I FIND THAT EUROPEAN WAFERS ...  \n",
       "3  DELICIOUS WAFERS. I FIND THAT EUROPEAN WAFERS ...  \n",
       "4  DELICIOUS WAFERS. I FIND THAT EUROPEAN WAFERS ...  "
      ]
     },
     "execution_count": 5,
     "metadata": {},
     "output_type": "execute_result"
    }
   ],
   "source": [
    "display = pd.read_sql_query(\"\"\"\n",
    "SELECT * \n",
    "FROM Reviews \n",
    "WHERE Score != 3 AND UserID=\"AR5J8UI46CURR\"\n",
    "ORDER BY ProductID\n",
    "\"\"\", con)\n",
    "display"
   ]
  },
  {
   "cell_type": "code",
   "execution_count": 6,
   "id": "5e67d0d4",
   "metadata": {},
   "outputs": [],
   "source": [
    "sorted_data=filtered_data.sort_values('ProductId', axis=0, ascending=True,inplace=False, )"
   ]
  },
  {
   "cell_type": "code",
   "execution_count": 7,
   "id": "1cecb2a6",
   "metadata": {},
   "outputs": [
    {
     "data": {
      "text/plain": [
       "(364173, 10)"
      ]
     },
     "execution_count": 7,
     "metadata": {},
     "output_type": "execute_result"
    }
   ],
   "source": [
    "final=sorted_data.drop_duplicates(subset={\"UserId\", \"ProfileName\", \"Time\", \"Text\"}, keep='first' , inplace=False)\n",
    "final.shape"
   ]
  },
  {
   "cell_type": "code",
   "execution_count": 8,
   "id": "1c1b1d63",
   "metadata": {},
   "outputs": [
    {
     "data": {
      "text/plain": [
       "69.25890143662969"
      ]
     },
     "execution_count": 8,
     "metadata": {},
     "output_type": "execute_result"
    }
   ],
   "source": [
    "(final['Id'].size*1.0)/(filtered_data['Id'].size*1.0)*100"
   ]
  },
  {
   "cell_type": "code",
   "execution_count": 9,
   "id": "f2a9746d",
   "metadata": {},
   "outputs": [
    {
     "data": {
      "text/html": [
       "<div>\n",
       "<style scoped>\n",
       "    .dataframe tbody tr th:only-of-type {\n",
       "        vertical-align: middle;\n",
       "    }\n",
       "\n",
       "    .dataframe tbody tr th {\n",
       "        vertical-align: top;\n",
       "    }\n",
       "\n",
       "    .dataframe thead th {\n",
       "        text-align: right;\n",
       "    }\n",
       "</style>\n",
       "<table border=\"1\" class=\"dataframe\">\n",
       "  <thead>\n",
       "    <tr style=\"text-align: right;\">\n",
       "      <th></th>\n",
       "      <th>Id</th>\n",
       "      <th>ProductId</th>\n",
       "      <th>UserId</th>\n",
       "      <th>ProfileName</th>\n",
       "      <th>HelpfulnessNumerator</th>\n",
       "      <th>HelpfulnessDenominator</th>\n",
       "      <th>Score</th>\n",
       "      <th>Time</th>\n",
       "      <th>Summary</th>\n",
       "      <th>Text</th>\n",
       "    </tr>\n",
       "  </thead>\n",
       "  <tbody>\n",
       "    <tr>\n",
       "      <th>0</th>\n",
       "      <td>64422</td>\n",
       "      <td>B000MIDROQ</td>\n",
       "      <td>A161DK06JJMCYF</td>\n",
       "      <td>J. E. Stephens \"Jeanne\"</td>\n",
       "      <td>3</td>\n",
       "      <td>1</td>\n",
       "      <td>5</td>\n",
       "      <td>1224892800</td>\n",
       "      <td>Bought This for My Son at College</td>\n",
       "      <td>My son loves spaghetti so I didn't hesitate or...</td>\n",
       "    </tr>\n",
       "    <tr>\n",
       "      <th>1</th>\n",
       "      <td>44737</td>\n",
       "      <td>B001EQ55RW</td>\n",
       "      <td>A2V0I904FH7ABY</td>\n",
       "      <td>Ram</td>\n",
       "      <td>3</td>\n",
       "      <td>2</td>\n",
       "      <td>4</td>\n",
       "      <td>1212883200</td>\n",
       "      <td>Pure cocoa taste with crunchy almonds inside</td>\n",
       "      <td>It was almost a 'love at first bite' - the per...</td>\n",
       "    </tr>\n",
       "  </tbody>\n",
       "</table>\n",
       "</div>"
      ],
      "text/plain": [
       "      Id   ProductId          UserId              ProfileName  \\\n",
       "0  64422  B000MIDROQ  A161DK06JJMCYF  J. E. Stephens \"Jeanne\"   \n",
       "1  44737  B001EQ55RW  A2V0I904FH7ABY                      Ram   \n",
       "\n",
       "   HelpfulnessNumerator  HelpfulnessDenominator  Score        Time  \\\n",
       "0                     3                       1      5  1224892800   \n",
       "1                     3                       2      4  1212883200   \n",
       "\n",
       "                                        Summary  \\\n",
       "0             Bought This for My Son at College   \n",
       "1  Pure cocoa taste with crunchy almonds inside   \n",
       "\n",
       "                                                Text  \n",
       "0  My son loves spaghetti so I didn't hesitate or...  \n",
       "1  It was almost a 'love at first bite' - the per...  "
      ]
     },
     "execution_count": 9,
     "metadata": {},
     "output_type": "execute_result"
    }
   ],
   "source": [
    "display= pd.read_sql_query(\"\"\"\n",
    "SELECT *\n",
    "FROM Reviews where Score != 3 AND Id=44737 OR Id=64422\n",
    "ORDER BY ProductID\"\"\",con)\n",
    "display"
   ]
  },
  {
   "cell_type": "code",
   "execution_count": 10,
   "id": "52fb0522",
   "metadata": {},
   "outputs": [],
   "source": [
    "final=final[final.HelpfulnessNumerator<=final.HelpfulnessDenominator]"
   ]
  },
  {
   "cell_type": "code",
   "execution_count": 11,
   "id": "f5215ee1",
   "metadata": {},
   "outputs": [
    {
     "data": {
      "text/plain": [
       "(363836, 10)"
      ]
     },
     "execution_count": 11,
     "metadata": {},
     "output_type": "execute_result"
    }
   ],
   "source": [
    "final=sorted_data.drop_duplicates(subset={\"Text\"}, keep='first' , inplace=False)\n",
    "final.shape"
   ]
  },
  {
   "cell_type": "code",
   "execution_count": 12,
   "id": "3a6b7133",
   "metadata": {},
   "outputs": [
    {
     "data": {
      "text/plain": [
       "positive    306766\n",
       "negative     57070\n",
       "Name: Score, dtype: int64"
      ]
     },
     "execution_count": 12,
     "metadata": {},
     "output_type": "execute_result"
    }
   ],
   "source": [
    "final['Score'].value_counts()"
   ]
  },
  {
   "cell_type": "markdown",
   "id": "451aa251",
   "metadata": {},
   "source": [
    "# text preprocessing: Stemming ,stop-word removal and lemmatization"
   ]
  },
  {
   "cell_type": "code",
   "execution_count": 13,
   "id": "0d6c8b45",
   "metadata": {},
   "outputs": [
    {
     "name": "stdout",
     "output_type": "stream",
     "text": [
      "60\n",
      "I set aside at least an hour each day to read to my son (3 y/o). At this point, I consider myself a connoisseur of children's books and this is one of the best. Santa Clause put this under the tree. Since then, we've read it perpetually and he loves it.<br /><br />First, this book taught him the months of the year.<br /><br />Second, it's a pleasure to read. Well suited to 1.5 y/o old to 4+.<br /><br />Very few children's books are worth owning. Most should be borrowed from the library. This book, however, deserves a permanent spot on your shelf. Sendak's best.\n"
     ]
    }
   ],
   "source": [
    "i=0\n",
    "for sent in final['Text'].values:\n",
    "    if (len(re.findall('<.*?>',sent))):\n",
    "        print(i)\n",
    "        print(sent)\n",
    "        break;\n",
    "    i += 10;"
   ]
  },
  {
   "cell_type": "code",
   "execution_count": 14,
   "id": "154d8dfa",
   "metadata": {},
   "outputs": [
    {
     "name": "stdout",
     "output_type": "stream",
     "text": [
      "{'been', 'wouldn', 'more', 'only', 'yours', 'hasn', 'who', 'further', 'them', 'herself', 'your', 'we', 'during', \"wasn't\", 'once', 'nor', 'again', \"shan't\", 'too', 'him', 'i', 'won', 'being', 'to', 'mustn', 'needn', 'both', 's', 'they', \"she's\", 'which', 'll', 'were', 'then', 'it', 'its', \"hasn't\", 'the', 'where', 'above', 'most', 'but', 'no', 'do', 'now', \"won't\", 'theirs', 'on', 'does', 'or', 'don', \"hadn't\", 'itself', 'through', 'of', 'ain', 'haven', 'wasn', \"wouldn't\", 'after', 'into', 'up', 'a', \"needn't\", 'have', 'has', 't', \"couldn't\", 'whom', 'under', \"it's\", 'y', 'other', 'when', 'our', 'doing', 'such', \"you're\", \"mightn't\", 'hers', 'm', 'shouldn', \"doesn't\", 'than', 'each', 'ourselves', 'what', \"didn't\", 'between', 'with', 'all', 'how', 'yourselves', 'weren', 'by', 'why', 'own', 'was', \"you've\", 'had', 'yourself', 'while', 'ma', 'over', \"mustn't\", 'if', 'am', 'same', \"aren't\", 'not', 'did', 'at', \"isn't\", 'are', 'having', \"that'll\", 'my', \"shouldn't\", 'that', 'in', 'his', 'very', 'hadn', 'isn', 'so', 'below', 'ours', 'for', 'can', 'any', 'you', \"don't\", 're', 'her', 'be', 'before', 'mightn', \"you'll\", 'o', 'some', \"haven't\", 'this', 'she', 'these', 'few', 'down', 'aren', 'here', 'their', 'off', 'should', 'because', 'about', 'is', 'themselves', 'from', 'and', 'there', \"you'd\", 'he', 'as', 'himself', 'just', 'out', 'shan', \"weren't\", 'doesn', 'against', 'until', 'd', \"should've\", 'didn', 'me', 'an', 'couldn', 'will', 've', 'myself', 'those'}\n",
      "&********************&\n",
      "tasti\n"
     ]
    }
   ],
   "source": [
    "stop = set(stopwords.words('english'))\n",
    "sno = nltk.stem.SnowballStemmer('english')\n",
    "def cleanhtml(sentence):\n",
    "    cleanr = re.compile('<.*?>')\n",
    "    cleantext = re.sub(cleanr, ' ', sentence)\n",
    "    return cleantext\n",
    "def cleanpunc(sentence):\n",
    "    cleaned = re.sub(r'[?|!|/|\"|#]', r' ',sentence)\n",
    "    cleaned = re.sub(r'[.|,|)|(|\\|/]' ,r' ', cleaned)\n",
    "    return cleaned\n",
    "print(stop)\n",
    "print('&********************&')\n",
    "print(sno.stem('tasty'))"
   ]
  },
  {
   "cell_type": "code",
   "execution_count": null,
   "id": "4b866da0",
   "metadata": {},
   "outputs": [],
   "source": [
    "i=0\n",
    "strl=' '\n",
    "final_string=[]\n",
    "all_positive_words=[]\n",
    "all_negative_words=[]\n",
    "s=''\n",
    "for sent in final['Text'].values:\n",
    "    filtered_sentence=[]\n",
    "    sent=cleanhtml(sent)\n",
    "    for w in sent.split():\n",
    "        for cleaned_words in cleanpunc(w).split():\n",
    "            if((cleaned_words.isalpha())&(len(cleaned_words)>2)):\n",
    "                if(cleaned_words.lower() not in stop):\n",
    "                    s=(sno.stem(cleaned_words.lower())).encode('utf8')\n",
    "                    filtered_sentence.append(s)\n",
    "                    if (final['Score'].values)[i] == 'positive':\n",
    "                        all_positive_words.append(s)\n",
    "                        if(final['Score'].values)[i] == 'negative':\n",
    "                            all_negative_words.append(s)\n",
    "                else:\n",
    "                    continue\n",
    "            else:\n",
    "                continue\n",
    "    strl = b\" \".join(filtered_sentence)\n",
    "    \n",
    "    final_string.append(strl)\n",
    "    i+=1"
   ]
  },
  {
   "cell_type": "code",
   "execution_count": null,
   "id": "ea67cb4f",
   "metadata": {},
   "outputs": [],
   "source": [
    "final['CleanedText']=final_string"
   ]
  },
  {
   "cell_type": "code",
   "execution_count": null,
   "id": "80d6247f",
   "metadata": {},
   "outputs": [],
   "source": [
    "final.head()"
   ]
  },
  {
   "cell_type": "code",
   "execution_count": null,
   "id": "28458eb1",
   "metadata": {},
   "outputs": [],
   "source": [
    "conn = sqlite3.connect('final.sqlite')\n",
    "c=conn.cursor()\n",
    "con.text_factory = str\n",
    "final.to_sql('Reviews',conn,  schema=None, if_exists='replace', index=False )"
   ]
  },
  {
   "cell_type": "markdown",
   "id": "a9312a64",
   "metadata": {},
   "source": [
    "# bag of Words"
   ]
  },
  {
   "cell_type": "code",
   "execution_count": null,
   "id": "fe148cab",
   "metadata": {},
   "outputs": [],
   "source": [
    "count_vect = CountVectorizer()\n",
    "final_counts = count_vect.fit_transform(final['Text'].values)"
   ]
  },
  {
   "cell_type": "code",
   "execution_count": null,
   "id": "f66bac28",
   "metadata": {},
   "outputs": [],
   "source": [
    "type(final_counts)\n"
   ]
  },
  {
   "cell_type": "code",
   "execution_count": null,
   "id": "e5d2da2a",
   "metadata": {},
   "outputs": [],
   "source": [
    "final_counts.get_shape()"
   ]
  },
  {
   "cell_type": "code",
   "execution_count": null,
   "id": "add391d3",
   "metadata": {},
   "outputs": [],
   "source": [
    "count_vect = CountVectorizer()\n",
    "final_counts = count_vect.fit_transform(final['CleanedText'].values)"
   ]
  },
  {
   "cell_type": "code",
   "execution_count": null,
   "id": "4d6a89f8",
   "metadata": {},
   "outputs": [],
   "source": [
    "final_counts.get_shape()"
   ]
  },
  {
   "cell_type": "markdown",
   "id": "bfb4e33d",
   "metadata": {},
   "source": [
    "# bi-grams ,tri-grams and n-grams"
   ]
  },
  {
   "cell_type": "code",
   "execution_count": null,
   "id": "b68af688",
   "metadata": {},
   "outputs": [],
   "source": [
    "freq_dist_positive=nltk.FreqDist(all_positive_words)\n",
    "freq_dist_negative=nltk.FreqDist(all_negative_words)\n",
    "print(\"Most Common Positive Words: \",freq_dist_positive.most_common(20))\n",
    "print(\"most common negative Words:\",freq_dist_negative.most_common(20))"
   ]
  },
  {
   "cell_type": "code",
   "execution_count": null,
   "id": "e68e47f0",
   "metadata": {},
   "outputs": [],
   "source": [
    "count_vect = CountVectorizer(ngram_range=(1,2))\n",
    "final_bigram_counts = count_vect.fit_transform(final['Text'].values)"
   ]
  },
  {
   "cell_type": "code",
   "execution_count": null,
   "id": "e25eba3a",
   "metadata": {},
   "outputs": [],
   "source": [
    "final_bigram_counts.get_shape()"
   ]
  },
  {
   "cell_type": "markdown",
   "id": "5dc65209",
   "metadata": {},
   "source": [
    "# Tf_IDF"
   ]
  },
  {
   "cell_type": "code",
   "execution_count": null,
   "id": "0df0da8e",
   "metadata": {},
   "outputs": [],
   "source": [
    "tf_idf_vect =TfidfVectorizer(ngram_range=(1,2))\n",
    "final_tf_idf =tf_idf_vect.fit_transform(final[\"Text\"].values)"
   ]
  },
  {
   "cell_type": "code",
   "execution_count": null,
   "id": "29858d4f",
   "metadata": {},
   "outputs": [],
   "source": [
    "final_tf_idf.get_shape()"
   ]
  },
  {
   "cell_type": "code",
   "execution_count": null,
   "id": "2fba8c9d",
   "metadata": {},
   "outputs": [],
   "source": [
    "features =tf_idf_vect.get_feature_names()\n",
    "len(features)"
   ]
  },
  {
   "cell_type": "code",
   "execution_count": null,
   "id": "690c82c4",
   "metadata": {},
   "outputs": [],
   "source": [
    "features[100000:100100]"
   ]
  },
  {
   "cell_type": "code",
   "execution_count": null,
   "id": "47a5519d",
   "metadata": {},
   "outputs": [],
   "source": [
    "print(final_tf_idf[3,:].toarray()[0])"
   ]
  },
  {
   "cell_type": "code",
   "execution_count": null,
   "id": "4922abc8",
   "metadata": {},
   "outputs": [],
   "source": [
    "def top_tfidf_feats(row, features, top_n=25):\n",
    "    '''Get top tfidf values in row and return them with their corresponds'''\n",
    "    topn_ids = np.argsort(row)[::-1][:top_n]\n",
    "    top_feats =[(features[i], row[i] ) for i in topn_ids]\n",
    "    df= pd.DataFrame(top_feats)\n",
    "    df=columns = ['feature', 'tfidf']\n",
    "    return df\n",
    "top_tfidf = top_tfidf_feats(final_tf_idf[1,:].toarray()[0],features,25)"
   ]
  },
  {
   "cell_type": "code",
   "execution_count": null,
   "id": "c54096e7",
   "metadata": {},
   "outputs": [],
   "source": [
    "top_tfidf"
   ]
  },
  {
   "cell_type": "markdown",
   "id": "9e902394",
   "metadata": {},
   "source": [
    "# Word2Vec"
   ]
  },
  {
   "cell_type": "code",
   "execution_count": null,
   "id": "d8548050",
   "metadata": {},
   "outputs": [],
   "source": [
    "model = KeyedVectors.load_word2vec_format('GoogleNews-vectors-negative300.bin', binary=True)"
   ]
  },
  {
   "cell_type": "code",
   "execution_count": null,
   "id": "40e794c0",
   "metadata": {},
   "outputs": [],
   "source": [
    "model['computer']"
   ]
  },
  {
   "cell_type": "code",
   "execution_count": null,
   "id": "9097e53d",
   "metadata": {},
   "outputs": [],
   "source": [
    "model.most_similar('women')"
   ]
  },
  {
   "cell_type": "code",
   "execution_count": null,
   "id": "cb494be0",
   "metadata": {},
   "outputs": [],
   "source": [
    "model.similarity('women','men')"
   ]
  },
  {
   "cell_type": "code",
   "execution_count": null,
   "id": "8a9430d3",
   "metadata": {},
   "outputs": [],
   "source": [
    "model.most_similar('tasty')"
   ]
  },
  {
   "cell_type": "code",
   "execution_count": null,
   "id": "cf7f0222",
   "metadata": {},
   "outputs": [],
   "source": [
    "model.similarity('tast','tasty')"
   ]
  },
  {
   "cell_type": "code",
   "execution_count": null,
   "id": "cb1449e0",
   "metadata": {},
   "outputs": [],
   "source": [
    "import gensim\n",
    "i=0\n",
    "list_of_sent=[]\n",
    "for sent in final['Text'].values:\n",
    "    filtered_sentence=[]\n",
    "    sent=cleanhtml(sent)\n",
    "    for w in sent.split():\n",
    "        for cleaned_words in cleanpunc(w).split():\n",
    "            if(cleaned_words.isalpha()):\n",
    "                filtered_sentence.append(cleaned_words.lower())\n",
    "            else:\n",
    "                continue\n",
    "    list_of_sent.append(filtered_sentence)"
   ]
  },
  {
   "cell_type": "code",
   "execution_count": null,
   "id": "25d9a41b",
   "metadata": {},
   "outputs": [],
   "source": [
    "print(final['Text'].values[0])\n",
    "print(\"**************\")\n",
    "print(list_of_sent[0])"
   ]
  },
  {
   "cell_type": "code",
   "execution_count": null,
   "id": "643238f2",
   "metadata": {},
   "outputs": [],
   "source": [
    "model=gensim.models.Word2Vec(list_of_sent,min_count=5,vector_size=100, workers=4)"
   ]
  },
  {
   "cell_type": "code",
   "execution_count": null,
   "id": "0e2b452f",
   "metadata": {},
   "outputs": [],
   "source": [
    "words = list(model.vocab)\n",
    "print(len(words))"
   ]
  },
  {
   "cell_type": "code",
   "execution_count": null,
   "id": "34d71cbe",
   "metadata": {},
   "outputs": [],
   "source": [
    "model.most_similar('tasty')"
   ]
  },
  {
   "cell_type": "code",
   "execution_count": null,
   "id": "60ac75be",
   "metadata": {},
   "outputs": [],
   "source": [
    "list_of_sent.wv.key_t0_index\n"
   ]
  },
  {
   "cell_type": "code",
   "execution_count": null,
   "id": "f1082d98",
   "metadata": {},
   "outputs": [],
   "source": []
  }
 ],
 "metadata": {
  "kernelspec": {
   "display_name": "Python 3 (ipykernel)",
   "language": "python",
   "name": "python3"
  },
  "language_info": {
   "codemirror_mode": {
    "name": "ipython",
    "version": 3
   },
   "file_extension": ".py",
   "mimetype": "text/x-python",
   "name": "python",
   "nbconvert_exporter": "python",
   "pygments_lexer": "ipython3",
   "version": "3.9.12"
  }
 },
 "nbformat": 4,
 "nbformat_minor": 5
}
